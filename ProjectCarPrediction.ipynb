import io
import numpy as np
import pandas as pd
import matplotlib.pyplot as plt
import seaborn as sns
plt.style.use('fivethirtyeight')
%matplotlib inline
from google.colab import drive
drive.mount('/content/drive')
df=pd.read_csv(('/content/drive/MyDrive/DA/CarPrice_Assignment.csv'))
df
